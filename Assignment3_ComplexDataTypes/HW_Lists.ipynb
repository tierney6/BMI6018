{
 "cells": [
  {
   "cell_type": "code",
   "execution_count": 1,
   "id": "43c61910",
   "metadata": {},
   "outputs": [
    {
     "name": "stdout",
     "output_type": "stream",
     "text": [
      "Assignment 3\n"
     ]
    }
   ],
   "source": [
    "\"\"\"BMI 6018 Fall 2022 \n",
    "\n",
    "Instructions: For this assignment, please return all answers as variables in your\n",
    ".py file. You will quickly note that you will need to find answers outside the\n",
    "class lectures. This is not an accident! You will need to become professionally\n",
    "comfortable with looking things up via the python docs and google. \n",
    "\n",
    "Ensure that all variables are labelled according to the example. IE the answer\n",
    "to problem 1 part c should be labelled one_c. While all questions are answerable\n",
    "with a single line of code, you are free to use helper variables so long as they\n",
    "are helpfully/informatively named. \n",
    "\n",
    "I should be able to open your .py file and run it without errors. I will **not** be \n",
    "debugging your code for you. If your file does not run, it will **not** be graded. \n",
    "If you are unsure if your file will run, open up a chpc terminal and test it there.\n",
    "\n",
    "For this assignment, please only use base python files types. That is: there \n",
    "should be no import calls in your file save my use of sys at the end.\n",
    "\n",
    "Example Problem\n",
    "\n",
    "0.a Create a list of strings\n",
    "0.b Using a str method, capitalize one of the elements in the list using a slice\n",
    "0.c Coerce one character of the list to display as a hex\n",
    "\n",
    "zero_a = ['first','second','third','fourth','fifth']\n",
    "zero_b = zero_a[1].upper()\n",
    "zero_c = hex(ord(zero_a[1][1]))\n",
    "\n",
    "#Problem 1: Lists, Sets and Coersion\n",
    "\n",
    "1.a Create a list of integers no fewer than 10 items from 0 to 9.\n",
    " .b Add 3 to the 5th indexed element\n",
    " .c Coerce all elements in the list to floats using list comprehension\n",
    " .d Coerce the list to a set\n",
    " .e Using a method, append int 10 to the set\n",
    " .f Using a method, pop an item from the set\n",
    " .g Using a length counting function, count the number of items in the set\n",
    " .h Check if the number of items in the set is the same as the \n",
    "    number of items in the list\n",
    " .i Coerce the set to a list and use the \"+\" operator combine the list to the list from 1.a\n",
    " .j Coerce 1.i to a set\n",
    " .k Count the number of elements in the 1.j\n",
    "\n",
    "\n",
    "\n",
    "Problem 2: Dictionary woes\n",
    "\n",
    "2.a Combine the three sample dictionaries (given below) into a nested dictionary (nested in programming means joined), named \n",
    "    two_a, ensure the key names are the same as the dictionary names.\n",
    " .b Using keys, retrieve the Dango's name from 2.a\n",
    " .c Using keys, update the value of Mochi's year to 2018. This should not be a variable\n",
    "    and should simply update 2.a.\n",
    " .d Manually create a dictionary that has a single level and contains each patient\n",
    "    as the key and the year as the value. Set Mochi's year to 2019.'\n",
    " .e Coerce the keys of 2.d into a list\n",
    " .f Coerce the values of 2.d into a list\n",
    " .g Use the zip function to combine 2.e and 2.f into a dictionary again\n",
    "\n",
    "\n",
    "two_patient_dictionary_kinoko = {\n",
    "  \"name\" : \"Kinoko\",\n",
    "  \"year\" : 2021\n",
    "}\n",
    "two_patient_dictionary_dango = {\n",
    "  \"name\" : \"Dango\",\n",
    "  \"year\" : 2019\n",
    "}\n",
    "two_patient_dictionary_mochi  = {\n",
    "  \"name\" : \"Mochi\",\n",
    "  \"year\" : 2020\n",
    "}\n",
    "\n",
    "\n",
    "\n",
    "Problem 3: Set combinations\n",
    "\n",
    "Given the predefined sets below and using set methods\n",
    "3.a Is set E a subset of set A\n",
    " .b Is set E a strict subset of set A\n",
    " .c Create a set that is the intersection of set A and set B\n",
    " .d Create a set that is the union of sets C, D and E\n",
    " .e add 9 to the set\n",
    " .f Using == compare this set to the list in one_a\n",
    " .g Explain why they are not the same. What would you need to change if you\n",
    "    wanted this to be True?\n",
    " \n",
    "\n",
    "three_setA = {1,2,3,4,5}\n",
    "three_setB = {2,3,4,5,6}\n",
    "three_setC = {3,5,7,9}\n",
    "three_setD = {2,4,6,8}\n",
    "three_setE = {1,2,3,4}\n",
    "\n",
    "\n",
    "\n",
    "Problem 4: Changing variable types\n",
    "\n",
    "For each step you will modify a variable, then append the type of the variable\n",
    "to a list. Do not recreate the list variable, it should be a running list of \n",
    "types.\n",
    "\n",
    "4.a Create a variable of type int with the value of 8\n",
    " .b Create an empty list \n",
    " .c Using type(), add the type of 4.a to this list\n",
    " .d Add 0.39 to 4.c\n",
    " .e append the type of 0.39 to the list\n",
    " .f exponentiate to the -10, ie: 4.d^-10,(hint: there might be an artihmetic operator to do so) round it to no \n",
    "    decimal places, and append to list.\n",
    " .g append the type to the list\n",
    " \n",
    " \n",
    "Problem 5: More variable type changes\n",
    "\n",
    "Continue from where you left off in Problem 4.\n",
    "\n",
    "5.a Manually create a dictionary where the values are items in the list from where we left in \n",
    "    problem 4, and the keys should be their index in the list. Print the dictionary.\n",
    " .b Add 300 and coerce it into a string\n",
    " .c append the type to the list\n",
    " .d slice the string up to the 2nd element\n",
    " .e append the type to the list\n",
    " .f use list comprehension to convert this into a new list of integers\n",
    " .g append the type to the list\n",
    " .h append the type of three_setA to the list\n",
    "\"\"\"\n",
    "\n",
    "#Start your assignment here\n",
    "print(\"Assignment 3\")\n",
    "\n"
   ]
  },
  {
   "attachments": {},
   "cell_type": "markdown",
   "id": "29dc65de",
   "metadata": {},
   "source": [
    "# Assignment 3"
   ]
  },
  {
   "attachments": {},
   "cell_type": "markdown",
   "id": "9c012d06",
   "metadata": {},
   "source": [
    "## Problem 1: Lists, Sets and Coersion\n",
    "\n",
    "### 1.a Create a list of integers no fewer than 10 items from 0 to 9.\n",
    "\n"
   ]
  },
  {
   "cell_type": "code",
   "execution_count": 28,
   "id": "9a88102c",
   "metadata": {},
   "outputs": [
    {
     "name": "stdout",
     "output_type": "stream",
     "text": [
      "[0, 1, 2, 3, 4, 5, 6, 7, 8, 9]\n"
     ]
    }
   ],
   "source": [
    "# to create a list manually, use square bracket\n",
    "my_list = [0,1,2,3,4,5,6,7,8,9]\n",
    "\n",
    "# alternatively can use the built in function \"range\" and it will return a sequence of integers between start, end, with a given step size\n",
    "list_range = list(range(0, 10, 1))\n",
    "list_range\n",
    "\n",
    "# check to see if the outputs are the same between each method\n",
    "my_list == list_range\n",
    "\n",
    "# save as \"one_a\"\n",
    "one_a = list_range\n",
    "\n",
    "print(one_a)"
   ]
  },
  {
   "attachments": {},
   "cell_type": "markdown",
   "id": "7acc698c",
   "metadata": {},
   "source": [
    "### 1.b Add 3 to the 5th indexed element\n"
   ]
  },
  {
   "cell_type": "code",
   "execution_count": 29,
   "id": "7472e30e",
   "metadata": {},
   "outputs": [
    {
     "data": {
      "text/plain": [
       "5"
      ]
     },
     "execution_count": 29,
     "metadata": {},
     "output_type": "execute_result"
    }
   ],
   "source": [
    "# since lists are mutable, we can add three to the 5th indexed element, which is equal to 5\n",
    "one_a[5] \n"
   ]
  },
  {
   "cell_type": "code",
   "execution_count": 30,
   "id": "1f3c066b",
   "metadata": {},
   "outputs": [
    {
     "data": {
      "text/plain": [
       "[0, 1, 2, 3, 4, 8, 6, 7, 8, 9]"
      ]
     },
     "execution_count": 30,
     "metadata": {},
     "output_type": "execute_result"
    }
   ],
   "source": [
    "# if we wanted to change the 5th indexed item of the original list in place, we could use the following:\n",
    "# store one_a as one_b\n",
    "one_b = one_a\n",
    "one_b[5] = one_b[5] + 3\n",
    "\n",
    "one_b"
   ]
  },
  {
   "attachments": {},
   "cell_type": "markdown",
   "id": "6de36441",
   "metadata": {},
   "source": [
    "### 1.c Coerce all elements in the list to floats using list comprehension\n"
   ]
  },
  {
   "cell_type": "code",
   "execution_count": 5,
   "id": "e14d4558",
   "metadata": {},
   "outputs": [
    {
     "name": "stdout",
     "output_type": "stream",
     "text": [
      "[0.0, 1.0, 2.0, 3.0, 4.0, 8.0, 6.0, 7.0, 8.0, 9.0]\n"
     ]
    }
   ],
   "source": [
    "# store one_b list as one_c\n",
    "\n",
    "# return float(item) for each item in one_b list; coerces each item in list one at a time and returns new list\n",
    "one_c = [float(x) for x in one_b]\n",
    "\n",
    "print(one_c) "
   ]
  },
  {
   "attachments": {},
   "cell_type": "markdown",
   "id": "10b8d68e",
   "metadata": {},
   "source": [
    "### 1.d Coerce the list to a set\n"
   ]
  },
  {
   "cell_type": "code",
   "execution_count": 6,
   "id": "e34e38b5",
   "metadata": {},
   "outputs": [
    {
     "name": "stdout",
     "output_type": "stream",
     "text": [
      "{0.0, 1.0, 2.0, 3.0, 4.0, 6.0, 7.0, 8.0, 9.0}\n"
     ]
    },
    {
     "data": {
      "text/plain": [
       "set"
      ]
     },
     "execution_count": 6,
     "metadata": {},
     "output_type": "execute_result"
    }
   ],
   "source": [
    "# coerce a list to a set\n",
    "one_d = set(one_c)\n",
    "\n",
    "# result is now contained in curly brackets, not square brackets\n",
    "print(one_d)\n",
    "\n",
    "# double check the new set using type()\n",
    "type(one_d)"
   ]
  },
  {
   "attachments": {},
   "cell_type": "markdown",
   "id": "dc7b14f1",
   "metadata": {},
   "source": [
    "### 1.e Using a method, append int 10 to the set\n"
   ]
  },
  {
   "cell_type": "code",
   "execution_count": 7,
   "id": "367710fd",
   "metadata": {},
   "outputs": [
    {
     "name": "stdout",
     "output_type": "stream",
     "text": [
      "{0.0, 1.0, 2.0, 3.0, 4.0, 6.0, 7.0, 8.0, 9.0}\n",
      "{0.0, 1.0, 2.0, 3.0, 4.0, 6.0, 7.0, 8.0, 9.0, 10}\n"
     ]
    }
   ],
   "source": [
    "# methods are built in to the object type and can be accessed using the \".\" after the object name\n",
    "# first rename one_d and store it as one_e\n",
    "one_e = one_d\n",
    "print(one_e)\n",
    "# now add the integer 10 to the end of the set using the add method\n",
    "one_e.add(10)\n",
    "print(one_e)"
   ]
  },
  {
   "attachments": {},
   "cell_type": "markdown",
   "id": "625eb100",
   "metadata": {},
   "source": [
    "### 1.f Using a method, pop an item from the set\n"
   ]
  },
  {
   "cell_type": "code",
   "execution_count": 8,
   "id": "270cfb62",
   "metadata": {},
   "outputs": [
    {
     "name": "stdout",
     "output_type": "stream",
     "text": [
      "{0.0, 1.0, 2.0, 3.0, 4.0, 6.0, 7.0, 8.0, 9.0, 10}\n",
      "0.0\n",
      "{1.0, 2.0, 3.0, 4.0, 6.0, 7.0, 8.0, 9.0, 10}\n"
     ]
    }
   ],
   "source": [
    "# first rename one_e as one_f\n",
    "one_f = one_e\n",
    "print(one_f)\n",
    "\n",
    "# pop randomly removes one item from the list, the following line returns the item that was removed:\n",
    "print(one_f.pop())\n",
    "\n",
    "# now reprinting the set, we see that the item returned above is now missing from the set\n",
    "print(one_f)"
   ]
  },
  {
   "attachments": {},
   "cell_type": "markdown",
   "id": "866c6b2d",
   "metadata": {},
   "source": [
    "### 1.g Using a length counting function, count the number of items in the set\n",
    "\n"
   ]
  },
  {
   "cell_type": "code",
   "execution_count": 9,
   "id": "c2f611f7",
   "metadata": {},
   "outputs": [
    {
     "name": "stdout",
     "output_type": "stream",
     "text": [
      "{1.0, 2.0, 3.0, 4.0, 6.0, 7.0, 8.0, 9.0, 10}\n",
      "9\n"
     ]
    }
   ],
   "source": [
    "# rename one_f as one_g\n",
    "one_g = one_f\n",
    "print(one_g)\n",
    "# get number of items in the set using the len() function\n",
    "one_g = len(one_g)\n",
    "print(one_g)"
   ]
  },
  {
   "attachments": {},
   "cell_type": "markdown",
   "id": "84892474",
   "metadata": {},
   "source": [
    "### 1.h Check if the number of items in the set is the same as the number of items in the list\n"
   ]
  },
  {
   "cell_type": "code",
   "execution_count": 10,
   "id": "45c2fce6",
   "metadata": {},
   "outputs": [
    {
     "name": "stdout",
     "output_type": "stream",
     "text": [
      "[0.0, 1.0, 2.0, 3.0, 4.0, 8.0, 6.0, 7.0, 8.0, 9.0]\n",
      "10\n",
      "{1.0, 2.0, 3.0, 4.0, 6.0, 7.0, 8.0, 9.0, 10}\n",
      "9\n",
      "False\n"
     ]
    }
   ],
   "source": [
    "# number of items in list from question 1c\n",
    "print(one_c)\n",
    "print(len(one_c))\n",
    "\n",
    "# number of items in set from question 1g\n",
    "print(one_f)\n",
    "print(one_g)\n",
    "\n",
    "# are the lengths equal?\n",
    "one_h = len(one_c) == one_g\n",
    "\n",
    "print(one_h)\n"
   ]
  },
  {
   "attachments": {},
   "cell_type": "markdown",
   "id": "d4242c3c",
   "metadata": {},
   "source": [
    "The lengths are different because in the set we have 8.0 duplicated. When it was converted to a set, the duplicates were dropped. This is why the list is longer than the set. "
   ]
  },
  {
   "attachments": {},
   "cell_type": "markdown",
   "id": "7d1176e4",
   "metadata": {},
   "source": [
    "### 1.i Coerce the set to a list and use the \"+\" operator combine the list to the list from 1.a\n"
   ]
  },
  {
   "cell_type": "code",
   "execution_count": 11,
   "id": "d60b7de2",
   "metadata": {},
   "outputs": [
    {
     "name": "stdout",
     "output_type": "stream",
     "text": [
      "<class 'list'>\n",
      "[0, 1, 2, 3, 4, 8, 6, 7, 8, 9, 1.0, 2.0, 3.0, 4.0, 6.0, 7.0, 8.0, 9.0, 10]\n"
     ]
    }
   ],
   "source": [
    "# coerce set to a list\n",
    "one_i = list(one_f)\n",
    "print(type(one_i))\n",
    "\n",
    "# append with list from 1.a using the + operator\n",
    "one_i = one_a + one_i\n",
    "print(one_i)"
   ]
  },
  {
   "attachments": {},
   "cell_type": "markdown",
   "id": "096a4085",
   "metadata": {},
   "source": [
    "### 1.j Coerce 1.i to a set\n"
   ]
  },
  {
   "cell_type": "code",
   "execution_count": 12,
   "id": "2fe35c63",
   "metadata": {},
   "outputs": [
    {
     "name": "stdout",
     "output_type": "stream",
     "text": [
      "{0, 1, 2, 3, 4, 6, 7, 8, 9, 10}\n",
      "<class 'set'>\n"
     ]
    }
   ],
   "source": [
    "# coercing one_i from a list to a set\n",
    "\n",
    "one_j = set(one_i)\n",
    "# now one_j has curly brackets, indicating it's a set\n",
    "print(one_j)\n",
    "# double checking with type function\n",
    "print(type(one_j))\n"
   ]
  },
  {
   "attachments": {},
   "cell_type": "markdown",
   "id": "0768fe71",
   "metadata": {},
   "source": [
    "Interestingly, when a list of integers and their equivalent floats is converted to a set the floats get removed, and only integers remain. "
   ]
  },
  {
   "attachments": {},
   "cell_type": "markdown",
   "id": "085fdfe4",
   "metadata": {},
   "source": [
    "### 1.k Count the number of elements in the 1.j"
   ]
  },
  {
   "cell_type": "code",
   "execution_count": 13,
   "id": "464686f6",
   "metadata": {},
   "outputs": [
    {
     "name": "stdout",
     "output_type": "stream",
     "text": [
      "10\n"
     ]
    }
   ],
   "source": [
    "# get the number of elements in the one_j set\n",
    "\n",
    "# use the len function to count the number of elements in the set\n",
    "one_k = len(one_j)\n",
    "print(one_k)"
   ]
  },
  {
   "attachments": {},
   "cell_type": "markdown",
   "id": "c47a50cd",
   "metadata": {},
   "source": [
    "## Problem 2: Dictionary Woes"
   ]
  },
  {
   "attachments": {},
   "cell_type": "markdown",
   "id": "023831c5",
   "metadata": {},
   "source": [
    "### 2.a \n",
    "Combine the three sample dictionaries (given below) into a nested dictionary (nested in programming means joined), named two_a, ensure the key names are the same as the dictionary names.\n",
    "\n",
    "two_patient_dictionary_kinoko = {\n",
    "  \"name\" : \"Kinoko\",\n",
    "  \"year\" : 2021\n",
    "}\n",
    "two_patient_dictionary_dango = {\n",
    "  \"name\" : \"Dango\",\n",
    "  \"year\" : 2019\n",
    "}\n",
    "two_patient_dictionary_mochi  = {\n",
    "  \"name\" : \"Mochi\",\n",
    "  \"year\" : 2020\n",
    "}\n"
   ]
  },
  {
   "cell_type": "code",
   "execution_count": 14,
   "id": "09858612",
   "metadata": {},
   "outputs": [
    {
     "name": "stdout",
     "output_type": "stream",
     "text": [
      "<class 'dict'>\n",
      "{'two_patient_dictionary_kinoko': {'name': 'Kinoko', 'year': 2021}, 'two_patient_dictionary_dango': {'name': 'Dango', 'year': 2019}, 'two_patient_dictionary_mochi': {'name': 'Mochi', 'year': 2020}}\n"
     ]
    }
   ],
   "source": [
    "## create a nested dictionary from existing dictionaries\n",
    "\n",
    "\n",
    "two_patient_dictionary_kinoko = {\n",
    "  \"name\" : \"Kinoko\",\n",
    "  \"year\" : 2021\n",
    "}\n",
    "two_patient_dictionary_dango = {\n",
    "  \"name\" : \"Dango\",\n",
    "  \"year\" : 2019\n",
    "}\n",
    "two_patient_dictionary_mochi  = {\n",
    "  \"name\" : \"Mochi\",\n",
    "  \"year\" : 2020\n",
    "}\n",
    "\n",
    "\n",
    "two_a = {\n",
    "    \"two_patient_dictionary_kinoko\" : two_patient_dictionary_kinoko,\n",
    "    \"two_patient_dictionary_dango\" : two_patient_dictionary_dango,\n",
    "    \"two_patient_dictionary_mochi\" : two_patient_dictionary_mochi\n",
    "}\n",
    "\n",
    "print(type(two_a))\n",
    "print(two_a)"
   ]
  },
  {
   "attachments": {},
   "cell_type": "markdown",
   "id": "2a8f1f41",
   "metadata": {},
   "source": [
    "\n",
    "### 2.b\n",
    "Using keys, retrieve the Dango's name from 2.a"
   ]
  },
  {
   "cell_type": "code",
   "execution_count": 15,
   "id": "3ab4ff78",
   "metadata": {},
   "outputs": [
    {
     "name": "stdout",
     "output_type": "stream",
     "text": [
      "Dango\n"
     ]
    }
   ],
   "source": [
    "# retrieving the name Dango from the nested list\n",
    "# to access items from a nested dictionary, you use the name of the dictionaries, starting with the outer dictionary\n",
    "two_b = two_a[\"two_patient_dictionary_dango\"][\"name\"]\n",
    "print(two_b)"
   ]
  },
  {
   "attachments": {},
   "cell_type": "markdown",
   "id": "155fc31f",
   "metadata": {},
   "source": [
    "\n",
    "### 2.c \n",
    "Using keys, update the value of Mochi's year to 2018. This should not be a variable and should simply update 2.a.\n"
   ]
  },
  {
   "cell_type": "code",
   "execution_count": 16,
   "id": "0e7673e3",
   "metadata": {},
   "outputs": [
    {
     "name": "stdout",
     "output_type": "stream",
     "text": [
      "2020\n",
      "2018\n"
     ]
    }
   ],
   "source": [
    "# now update the value of Mochi's year to 2018\n",
    "# two_a gets updated, don't need to create a new variable\n",
    "\n",
    "# originally it equals 2020\n",
    "print(two_a[\"two_patient_dictionary_mochi\"][\"year\"])\n",
    "\n",
    "# updating it to 2018\n",
    "two_a[\"two_patient_dictionary_mochi\"][\"year\"] = 2018\n",
    "print(two_a[\"two_patient_dictionary_mochi\"][\"year\"])\n"
   ]
  },
  {
   "attachments": {},
   "cell_type": "markdown",
   "id": "5499c152",
   "metadata": {},
   "source": [
    "### 2.d \n",
    "Manually create a dictionary that has a single level and contains each patient as the key and the year as the value. Set Mochi's year to 2019.'\n"
   ]
  },
  {
   "cell_type": "code",
   "execution_count": 17,
   "id": "5df72aed",
   "metadata": {},
   "outputs": [
    {
     "name": "stdout",
     "output_type": "stream",
     "text": [
      "{'kinoko': 2021, 'dango': 2019, 'mochi': 2019}\n"
     ]
    }
   ],
   "source": [
    "# manually create a dictionary (no longer nested)\n",
    "# key = patient\n",
    "# value = year\n",
    "\n",
    "two_d = {\"kinoko\" : 2021,\n",
    "         \"dango\" : 2019,\n",
    "         \"mochi\" : 2019}\n",
    "\n",
    "print(two_d)"
   ]
  },
  {
   "attachments": {},
   "cell_type": "markdown",
   "id": "c469b5c3",
   "metadata": {},
   "source": [
    "### 2.e \n",
    "Coerce the keys of 2.d into a list\n"
   ]
  },
  {
   "cell_type": "code",
   "execution_count": 18,
   "id": "5a64272c",
   "metadata": {},
   "outputs": [
    {
     "name": "stdout",
     "output_type": "stream",
     "text": [
      "['kinoko', 'dango', 'mochi']\n"
     ]
    },
    {
     "data": {
      "text/plain": [
       "list"
      ]
     },
     "execution_count": 18,
     "metadata": {},
     "output_type": "execute_result"
    }
   ],
   "source": [
    "# coercing dictionary keys into a list\n",
    "# keys() extracts the keys from the dictionary object and list() coerces it into a list\n",
    "two_e = list(two_d.keys())\n",
    "print(two_e)\n",
    "# check type to ensure it is a list\n",
    "type(two_e)"
   ]
  },
  {
   "attachments": {},
   "cell_type": "markdown",
   "id": "a5677cc0",
   "metadata": {},
   "source": [
    "### 2.f \n",
    "Coerce the values of 2.d into a list\n"
   ]
  },
  {
   "cell_type": "code",
   "execution_count": 19,
   "id": "71d5c25d",
   "metadata": {},
   "outputs": [
    {
     "name": "stdout",
     "output_type": "stream",
     "text": [
      "[2021, 2019, 2019]\n"
     ]
    },
    {
     "data": {
      "text/plain": [
       "list"
      ]
     },
     "execution_count": 19,
     "metadata": {},
     "output_type": "execute_result"
    }
   ],
   "source": [
    "# coercing dictionary values into a list\n",
    "# values() extracts the values from the dictionary object and list() coerces it into a list\n",
    "two_f = list(two_d.values())\n",
    "print(two_f)\n",
    "# check type to ensure it is a list\n",
    "type(two_f)"
   ]
  },
  {
   "attachments": {},
   "cell_type": "markdown",
   "id": "f6b6e355",
   "metadata": {},
   "source": [
    "### 2.g \n",
    "Use the zip function to combine 2.e and 2.f into a dictionary again"
   ]
  },
  {
   "cell_type": "code",
   "execution_count": 20,
   "id": "09134516",
   "metadata": {},
   "outputs": [
    {
     "name": "stdout",
     "output_type": "stream",
     "text": [
      "{'kinoko': 2021, 'dango': 2019, 'mochi': 2019}\n"
     ]
    }
   ],
   "source": [
    "# combining two e and two f into a dictionary using dict and zip functions\n",
    "two_g = dict(zip(two_e, two_f))\n",
    "\n",
    "print(two_g)"
   ]
  },
  {
   "attachments": {},
   "cell_type": "markdown",
   "id": "5c6db979",
   "metadata": {},
   "source": [
    "## Problem 3: Set combinations\n",
    "\n",
    "Given the predefined sets below and using set methods\n",
    "\n",
    "three_setA = {1,2,3,4,5}\n",
    "three_setB = {2,3,4,5,6}\n",
    "three_setC = {3,5,7,9}\n",
    "three_setD = {2,4,6,8}\n",
    "three_setE = {1,2,3,4}\n",
    "\n",
    "### 3.a \n",
    "Is set E a subset of set A\n"
   ]
  },
  {
   "cell_type": "code",
   "execution_count": 21,
   "id": "bc1fc2f3",
   "metadata": {},
   "outputs": [
    {
     "name": "stdout",
     "output_type": "stream",
     "text": [
      "True\n"
     ]
    }
   ],
   "source": [
    "# load predefined sets as objects\n",
    "three_setA = {1,2,3,4,5}\n",
    "three_setB = {2,3,4,5,6}\n",
    "three_setC = {3,5,7,9}\n",
    "three_setD = {2,4,6,8}\n",
    "three_setE = {1,2,3,4}\n",
    "\n",
    "# see if E is a subset of A\n",
    "three_a = three_setE.issubset(three_setA)\n",
    "print(three_a)\n",
    "\n"
   ]
  },
  {
   "attachments": {},
   "cell_type": "markdown",
   "id": "e30c49fd",
   "metadata": {},
   "source": [
    "Yes, Set E is a subset of set A."
   ]
  },
  {
   "attachments": {},
   "cell_type": "markdown",
   "id": "62c83cee",
   "metadata": {},
   "source": [
    "### 3.b \n",
    "Is set E a strict subset of set A\n"
   ]
  },
  {
   "cell_type": "code",
   "execution_count": 22,
   "id": "476779f2",
   "metadata": {},
   "outputs": [
    {
     "name": "stdout",
     "output_type": "stream",
     "text": [
      "True\n"
     ]
    }
   ],
   "source": [
    "# see if E is a STRICT subset of A by making sure it is a subset but not equal to A\n",
    "three_b = three_setE.issubset(three_setA) and (three_setE != three_setA)\n",
    "print(three_b)"
   ]
  },
  {
   "attachments": {},
   "cell_type": "markdown",
   "id": "233562a7",
   "metadata": {},
   "source": [
    "### 3.c \n",
    "Create a set that is the intersection of set A and set B\n"
   ]
  },
  {
   "cell_type": "code",
   "execution_count": 23,
   "id": "abddfa4b",
   "metadata": {},
   "outputs": [
    {
     "name": "stdout",
     "output_type": "stream",
     "text": [
      "{2, 3, 4, 5}\n"
     ]
    }
   ],
   "source": [
    "# create a new set called three_c that is the intersection of A and B\n",
    "three_c = three_setA.intersection(three_setB)\n",
    "print(three_c)"
   ]
  },
  {
   "attachments": {},
   "cell_type": "markdown",
   "id": "29a0b74f",
   "metadata": {},
   "source": [
    "### 3.d \n",
    "Create a set that is the union of sets C, D and E\n"
   ]
  },
  {
   "cell_type": "code",
   "execution_count": 24,
   "id": "49e0fb4f",
   "metadata": {},
   "outputs": [
    {
     "name": "stdout",
     "output_type": "stream",
     "text": [
      "{1, 2, 3, 4, 5, 6, 7, 8, 9}\n"
     ]
    }
   ],
   "source": [
    "# create a new set called three_d that is the union of C, D, and E\n",
    "three_d = three_setC.union(three_setD, three_setE)\n",
    "print(three_d)"
   ]
  },
  {
   "attachments": {},
   "cell_type": "markdown",
   "id": "eeebfc3f",
   "metadata": {},
   "source": [
    "### 3.e \n",
    "add 9 to the set"
   ]
  },
  {
   "cell_type": "code",
   "execution_count": 25,
   "id": "fcfb0dcb",
   "metadata": {},
   "outputs": [
    {
     "name": "stdout",
     "output_type": "stream",
     "text": [
      "{1, 2, 3, 4, 5, 6, 7, 8, 9}\n"
     ]
    }
   ],
   "source": [
    "# includes the union of sets C, D, and E and adds 9\n",
    "# this shouldn't change the set because 9 is already included and sets drop duplicates\n",
    "three_d.add(9)\n",
    "print(three_d)"
   ]
  },
  {
   "attachments": {},
   "cell_type": "markdown",
   "id": "4db1932c",
   "metadata": {},
   "source": [
    "\n",
    "### 3.f \n",
    "Using == compare this set to the list in one_a"
   ]
  },
  {
   "cell_type": "code",
   "execution_count": 34,
   "id": "695a318c",
   "metadata": {},
   "outputs": [
    {
     "name": "stdout",
     "output_type": "stream",
     "text": [
      "False\n"
     ]
    }
   ],
   "source": [
    "# use == to determine if the list from one_a is equal to the set from 3d/3e\n",
    "one_a = list(range(0,10))\n",
    "three_f = one_a == three_d\n",
    "print(three_f)"
   ]
  },
  {
   "attachments": {},
   "cell_type": "markdown",
   "id": "7133e45a",
   "metadata": {},
   "source": [
    "They are not equivalent."
   ]
  },
  {
   "attachments": {},
   "cell_type": "markdown",
   "id": "047a982b",
   "metadata": {},
   "source": [
    "### 3.g \n",
    "Explain why they are not the same. What would you need to change if you wanted this to be True?\n",
    "\n",
    "They are not the same because the set from one_a contains a zero, and so they have different lengths as well as being different data types. To make them equivalent you would need to either remove the zero from one_a or add it to three_d and then convert the data type from either "
   ]
  },
  {
   "cell_type": "code",
   "execution_count": 35,
   "id": "ede2bda9",
   "metadata": {},
   "outputs": [
    {
     "name": "stdout",
     "output_type": "stream",
     "text": [
      "[0, 1, 2, 3, 4, 5, 6, 7, 8, 9]\n",
      "{1, 2, 3, 4, 5, 6, 7, 8, 9}\n"
     ]
    },
    {
     "data": {
      "text/plain": [
       "True"
      ]
     },
     "execution_count": 35,
     "metadata": {},
     "output_type": "execute_result"
    }
   ],
   "source": [
    "print(one_a)\n",
    "print(three_d)\n",
    "\n",
    "one_a[1:] == list(three_d)"
   ]
  },
  {
   "attachments": {},
   "cell_type": "markdown",
   "id": "91508495",
   "metadata": {},
   "source": [
    "## Problem 4: Changing variable types\n",
    "\n",
    "For each step you will modify a variable, then append the type of the variable\n",
    "to a list. Do not recreate the list variable, it should be a running list of \n",
    "types.\n",
    "\n",
    "### 4.a \n",
    "Create a variable of type int with the value of 8\n"
   ]
  },
  {
   "cell_type": "code",
   "execution_count": 357,
   "id": "349b8404",
   "metadata": {},
   "outputs": [
    {
     "name": "stdout",
     "output_type": "stream",
     "text": [
      "8\n",
      "<class 'int'>\n"
     ]
    }
   ],
   "source": [
    "four_a = int(8)\n",
    "print(four_a)\n",
    "print(type(four_a))"
   ]
  },
  {
   "attachments": {},
   "cell_type": "markdown",
   "id": "b4eb6b90",
   "metadata": {},
   "source": [
    "### 4.b \n",
    "Create an empty list "
   ]
  },
  {
   "cell_type": "code",
   "execution_count": 358,
   "id": "d9c6ffbc",
   "metadata": {},
   "outputs": [
    {
     "data": {
      "text/plain": [
       "list"
      ]
     },
     "execution_count": 358,
     "metadata": {},
     "output_type": "execute_result"
    }
   ],
   "source": [
    "# create an empty list\n",
    "four_b = list()\n",
    "type(four_b)"
   ]
  },
  {
   "attachments": {},
   "cell_type": "markdown",
   "id": "dc1c4ad2",
   "metadata": {},
   "source": [
    "### 4.c \n",
    "Using type(), add the type of 4.a to this list"
   ]
  },
  {
   "cell_type": "code",
   "execution_count": 359,
   "id": "febabe07",
   "metadata": {},
   "outputs": [
    {
     "name": "stdout",
     "output_type": "stream",
     "text": [
      "[<class 'int'>]\n"
     ]
    }
   ],
   "source": [
    "# four_b, the empty list has no data type, just list type; use type(four_a) and append() to add the list type of four_a; class 'int'\n",
    "four_b.append(type(four_a))\n",
    "print(four_b)\n"
   ]
  },
  {
   "attachments": {},
   "cell_type": "markdown",
   "id": "8c2d9e51",
   "metadata": {},
   "source": [
    "### 4.d \n",
    "Add 0.39 to 4.c\n"
   ]
  },
  {
   "cell_type": "code",
   "execution_count": 360,
   "id": "b1576ca0",
   "metadata": {},
   "outputs": [
    {
     "name": "stdout",
     "output_type": "stream",
     "text": [
      "[<class 'int'>, 0.39]\n"
     ]
    }
   ],
   "source": [
    "four_b.append(0.39)\n",
    "\n",
    "print(four_b)"
   ]
  },
  {
   "attachments": {},
   "cell_type": "markdown",
   "id": "e27c5948",
   "metadata": {},
   "source": [
    "### 4.e \n",
    "append the type of 0.39 to the list\n"
   ]
  },
  {
   "cell_type": "code",
   "execution_count": 361,
   "id": "c14967d3",
   "metadata": {},
   "outputs": [
    {
     "name": "stdout",
     "output_type": "stream",
     "text": [
      "[<class 'int'>, 0.39, <class 'float'>]\n"
     ]
    }
   ],
   "source": [
    "# use the append and type functions again to add the float class as the next item in the list\n",
    "four_b.append(type(0.39))\n",
    "print(four_b)"
   ]
  },
  {
   "attachments": {},
   "cell_type": "markdown",
   "id": "c71cb034",
   "metadata": {},
   "source": [
    "### 4.f \n",
    "exponentiate to the -10, ie: 4.d^-10,(hint: there might be an artihmetic operator to do so) round it to no decimal places, and append to list.\n"
   ]
  },
  {
   "cell_type": "code",
   "execution_count": 362,
   "id": "919c9581",
   "metadata": {},
   "outputs": [
    {
     "name": "stdout",
     "output_type": "stream",
     "text": [
      "12284\n",
      "[<class 'int'>, 0.39, <class 'float'>, 12284]\n"
     ]
    }
   ],
   "source": [
    "# exponentiate 0.39 to the -10 power; round to 0 decimal places\n",
    "four_d_exp = round(0.39**(-10))\n",
    "print(four_d_exp)\n",
    "\n",
    "# append it to the list\n",
    "four_b.append(four_d_exp)\n",
    "print(four_b)"
   ]
  },
  {
   "attachments": {},
   "cell_type": "markdown",
   "id": "8485be7e",
   "metadata": {},
   "source": [
    "### 4.g \n",
    "append the type to the list"
   ]
  },
  {
   "cell_type": "code",
   "execution_count": 363,
   "id": "c5a94d03",
   "metadata": {},
   "outputs": [
    {
     "name": "stdout",
     "output_type": "stream",
     "text": [
      "[<class 'int'>, 0.39, <class 'float'>, 12284, <class 'int'>]\n"
     ]
    }
   ],
   "source": [
    "# get the type of the rounded four_d_exp and append to the list\n",
    "four_b.append(type(four_d_exp))\n",
    "print(four_b)"
   ]
  },
  {
   "attachments": {},
   "cell_type": "markdown",
   "id": "ad5987fc",
   "metadata": {},
   "source": [
    "## Problem 5: More variable type changes\n",
    "\n",
    "Continue from where you left off in Problem 4.\n",
    "\n",
    "### 5.a \n",
    "Manually create a dictionary where the values are items in the list from where we left in problem 4, and the keys should be their index in the list. Print the dictionary.\n"
   ]
  },
  {
   "cell_type": "code",
   "execution_count": 364,
   "id": "d880a172",
   "metadata": {},
   "outputs": [
    {
     "name": "stdout",
     "output_type": "stream",
     "text": [
      "{'0': \"<class 'int'>\", '1': 0.39, '2': \"<class 'float'>\", '3': 12284, '4': \"<class 'int'>\"}\n"
     ]
    }
   ],
   "source": [
    "# manually creating a list\n",
    "# keys are the index, which in python starts at 0\n",
    "# values are the items from the list\n",
    "five_a = {\"0\" : \"<class 'int'>\",\n",
    "          \"1\" : 0.39,\n",
    "          \"2\" : \"<class 'float'>\",\n",
    "          \"3\" : 12284,\n",
    "          \"4\" : \"<class 'int'>\"}\n",
    "\n",
    "print(five_a)"
   ]
  },
  {
   "attachments": {},
   "cell_type": "markdown",
   "id": "6909b413",
   "metadata": {},
   "source": [
    "### 5.b \n",
    "Add 300 and coerce it into a string\n"
   ]
  },
  {
   "cell_type": "code",
   "execution_count": 365,
   "id": "beb7a2db",
   "metadata": {},
   "outputs": [
    {
     "name": "stdout",
     "output_type": "stream",
     "text": [
      "[<class 'int'>, 0.39, <class 'float'>, 12284, <class 'int'>, '300']\n"
     ]
    }
   ],
   "source": [
    "# add 300 to the list from 4b using append; use quotes to coerce it to a string\n",
    "four_b.append(\"300\")\n",
    "print(four_b)"
   ]
  },
  {
   "attachments": {},
   "cell_type": "markdown",
   "id": "822a6873",
   "metadata": {},
   "source": [
    "### 5.c \n",
    "append the type to the list\n"
   ]
  },
  {
   "cell_type": "code",
   "execution_count": 366,
   "id": "6ba6e92c",
   "metadata": {},
   "outputs": [
    {
     "name": "stdout",
     "output_type": "stream",
     "text": [
      "[<class 'int'>, 0.39, <class 'float'>, 12284, <class 'int'>, '300', <class 'str'>]\n"
     ]
    }
   ],
   "source": [
    "# get type of the string and append it to the list\n",
    "four_b.append(type(\"300\"))\n",
    "print(four_b)"
   ]
  },
  {
   "attachments": {},
   "cell_type": "markdown",
   "id": "98fcd660",
   "metadata": {},
   "source": [
    "### 5.d \n",
    "slice the string up to the 2nd element"
   ]
  },
  {
   "cell_type": "code",
   "execution_count": 367,
   "id": "7d7cc702",
   "metadata": {},
   "outputs": [
    {
     "name": "stdout",
     "output_type": "stream",
     "text": [
      "30\n"
     ]
    }
   ],
   "source": [
    "# save the string as an object\n",
    "string_300 = \"300\"\n",
    "\n",
    "# slice up to the second element\n",
    "five_d = string_300[:2]\n",
    "print(five_d)"
   ]
  },
  {
   "attachments": {},
   "cell_type": "markdown",
   "id": "b4e9ff7e",
   "metadata": {},
   "source": [
    "### 5.e \n",
    "append the type to the list\n"
   ]
  },
  {
   "cell_type": "code",
   "execution_count": 368,
   "id": "dbcf4c97",
   "metadata": {},
   "outputs": [
    {
     "name": "stdout",
     "output_type": "stream",
     "text": [
      "[<class 'int'>, 0.39, <class 'float'>, 12284, <class 'int'>, '300', <class 'str'>, <class 'str'>]\n"
     ]
    }
   ],
   "source": [
    "four_b.append(type(five_d))\n",
    "print(four_b)"
   ]
  },
  {
   "attachments": {},
   "cell_type": "markdown",
   "id": "5d590379",
   "metadata": {},
   "source": [
    "### 5.f \n",
    "use list comprehension to convert this into a new list of integers\n"
   ]
  },
  {
   "cell_type": "code",
   "execution_count": 369,
   "id": "a7a8f770",
   "metadata": {},
   "outputs": [
    {
     "name": "stdout",
     "output_type": "stream",
     "text": [
      "[<class 'int'>, 0.39, <class 'float'>, 12284, <class 'int'>, '300', <class 'str'>, <class 'str'>]\n",
      "[None, 0, None, 12284, None, 300, None, None]\n"
     ]
    }
   ],
   "source": [
    "# extract the integers from the list to create a list of only integers\n",
    "\n",
    "# create a helper function\n",
    "def int_extract_fun(a):\n",
    "    try:\n",
    "        return int(a) # tries to convert input values into integers\n",
    "    # if there is a Type error (e.g. converting class to integer, skip the input)\n",
    "    except TypeError: \n",
    "        pass\n",
    "  \n",
    "\n",
    "print(four_b)\n",
    "# use list comprehension to run the function iteratively in four_b\n",
    "five_f = [int_extract_fun(x) for x in four_b]\n",
    "print(five_f)\n",
    "\n"
   ]
  },
  {
   "attachments": {},
   "cell_type": "markdown",
   "id": "5d7e0563",
   "metadata": {},
   "source": [
    "\n",
    "### 5.g \n",
    "append the type to the list"
   ]
  },
  {
   "cell_type": "code",
   "execution_count": 370,
   "id": "03e09ad3",
   "metadata": {},
   "outputs": [
    {
     "name": "stdout",
     "output_type": "stream",
     "text": [
      "[<class 'int'>, 0.39, <class 'float'>, 12284, <class 'int'>, '300', <class 'str'>, <class 'str'>, <class 'list'>]\n"
     ]
    }
   ],
   "source": [
    "# get type of the new list and append it to the original list\n",
    "four_b.append(type(five_f))\n",
    "print(four_b)"
   ]
  },
  {
   "attachments": {},
   "cell_type": "markdown",
   "id": "48521073",
   "metadata": {},
   "source": [
    "### 5.h \n",
    "append the type of three_setA to the list\n",
    "\n"
   ]
  },
  {
   "cell_type": "code",
   "execution_count": 372,
   "id": "cdaf5c6c",
   "metadata": {},
   "outputs": [
    {
     "name": "stdout",
     "output_type": "stream",
     "text": [
      "[<class 'int'>, 0.39, <class 'float'>, 12284, <class 'int'>, '300', <class 'str'>, <class 'str'>, <class 'list'>, <class 'set'>]\n"
     ]
    }
   ],
   "source": [
    "three_setA = {1,2,3,4,5} # load set\n",
    "\n",
    "four_b.append(type(three_setA)) # append four_b with the set type\n",
    "print(four_b)"
   ]
  }
 ],
 "metadata": {
  "kernelspec": {
   "display_name": "Python 3 (ipykernel)",
   "language": "python",
   "name": "python3"
  },
  "language_info": {
   "codemirror_mode": {
    "name": "ipython",
    "version": 3
   },
   "file_extension": ".py",
   "mimetype": "text/x-python",
   "name": "python",
   "nbconvert_exporter": "python",
   "pygments_lexer": "ipython3",
   "version": "3.10.12"
  }
 },
 "nbformat": 4,
 "nbformat_minor": 5
}
