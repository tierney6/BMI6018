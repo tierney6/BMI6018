{
 "cells": [
  {
   "cell_type": "code",
   "execution_count": 7,
   "metadata": {},
   "outputs": [
    {
     "data": {
      "text/plain": [
       "'Numpy Version is 1.26.0'"
      ]
     },
     "execution_count": 7,
     "metadata": {},
     "output_type": "execute_result"
    }
   ],
   "source": [
    "#### Question 1 ######\n",
    "# import numpy library \n",
    "import numpy as np\n",
    "\n",
    "# print version\n",
    "f\"Numpy Version is {np.__version__}\"\n"
   ]
  },
  {
   "cell_type": "code",
   "execution_count": 8,
   "metadata": {},
   "outputs": [
    {
     "data": {
      "text/plain": [
       "array([0, 1, 2, 3, 4, 5, 6, 7, 8, 9])"
      ]
     },
     "execution_count": 8,
     "metadata": {},
     "output_type": "execute_result"
    }
   ],
   "source": [
    "#### Question 2 ######\n",
    "\n",
    "# Create a 1-D array of numbers from 0-9\n",
    "# use the arange function\n",
    "# it automatically starts with 0, and is end exclusive, so we provide 10 as the input to get 0-9\n",
    "np.arange(10)\n",
    "\n"
   ]
  },
  {
   "cell_type": "code",
   "execution_count": 10,
   "metadata": {},
   "outputs": [
    {
     "data": {
      "text/plain": [
       "array([['5.1', '3.5', '1.4', '0.2', 'Iris-setosa'],\n",
       "       ['4.9', '3.0', '1.4', '0.2', 'Iris-setosa'],\n",
       "       ['4.7', '3.2', '1.3', '0.2', 'Iris-setosa'],\n",
       "       ['4.6', '3.1', '1.5', '0.2', 'Iris-setosa'],\n",
       "       ['5.0', '3.6', '1.4', '0.2', 'Iris-setosa'],\n",
       "       ['5.4', '3.9', '1.7', '0.4', 'Iris-setosa'],\n",
       "       ['4.6', '3.4', '1.4', '0.3', 'Iris-setosa'],\n",
       "       ['5.0', '3.4', '1.5', '0.2', 'Iris-setosa'],\n",
       "       ['4.4', '2.9', '1.4', '0.2', 'Iris-setosa'],\n",
       "       ['4.9', '3.1', '1.5', '0.1', 'Iris-setosa'],\n",
       "       ['5.4', '3.7', '1.5', '0.2', 'Iris-setosa'],\n",
       "       ['4.8', '3.4', '1.6', '0.2', 'Iris-setosa'],\n",
       "       ['4.8', '3.0', '1.4', '0.1', 'Iris-setosa'],\n",
       "       ['4.3', '3.0', '1.1', '0.1', 'Iris-setosa'],\n",
       "       ['5.8', '4.0', '1.2', '0.2', 'Iris-setosa'],\n",
       "       ['5.7', '4.4', '1.5', '0.4', 'Iris-setosa'],\n",
       "       ['5.4', '3.9', '1.3', '0.4', 'Iris-setosa'],\n",
       "       ['5.1', '3.5', '1.4', '0.3', 'Iris-setosa'],\n",
       "       ['5.7', '3.8', '1.7', '0.3', 'Iris-setosa'],\n",
       "       ['5.1', '3.8', '1.5', '0.3', 'Iris-setosa'],\n",
       "       ['5.4', '3.4', '1.7', '0.2', 'Iris-setosa'],\n",
       "       ['5.1', '3.7', '1.5', '0.4', 'Iris-setosa'],\n",
       "       ['4.6', '3.6', '1.0', '0.2', 'Iris-setosa'],\n",
       "       ['5.1', '3.3', '1.7', '0.5', 'Iris-setosa'],\n",
       "       ['4.8', '3.4', '1.9', '0.2', 'Iris-setosa'],\n",
       "       ['5.0', '3.0', '1.6', '0.2', 'Iris-setosa'],\n",
       "       ['5.0', '3.4', '1.6', '0.4', 'Iris-setosa'],\n",
       "       ['5.2', '3.5', '1.5', '0.2', 'Iris-setosa'],\n",
       "       ['5.2', '3.4', '1.4', '0.2', 'Iris-setosa'],\n",
       "       ['4.7', '3.2', '1.6', '0.2', 'Iris-setosa'],\n",
       "       ['4.8', '3.1', '1.6', '0.2', 'Iris-setosa'],\n",
       "       ['5.4', '3.4', '1.5', '0.4', 'Iris-setosa'],\n",
       "       ['5.2', '4.1', '1.5', '0.1', 'Iris-setosa'],\n",
       "       ['5.5', '4.2', '1.4', '0.2', 'Iris-setosa'],\n",
       "       ['4.9', '3.1', '1.5', '0.1', 'Iris-setosa'],\n",
       "       ['5.0', '3.2', '1.2', '0.2', 'Iris-setosa'],\n",
       "       ['5.5', '3.5', '1.3', '0.2', 'Iris-setosa'],\n",
       "       ['4.9', '3.1', '1.5', '0.1', 'Iris-setosa'],\n",
       "       ['4.4', '3.0', '1.3', '0.2', 'Iris-setosa'],\n",
       "       ['5.1', '3.4', '1.5', '0.2', 'Iris-setosa'],\n",
       "       ['5.0', '3.5', '1.3', '0.3', 'Iris-setosa'],\n",
       "       ['4.5', '2.3', '1.3', '0.3', 'Iris-setosa'],\n",
       "       ['4.4', '3.2', '1.3', '0.2', 'Iris-setosa'],\n",
       "       ['5.0', '3.5', '1.6', '0.6', 'Iris-setosa'],\n",
       "       ['5.1', '3.8', '1.9', '0.4', 'Iris-setosa'],\n",
       "       ['4.8', '3.0', '1.4', '0.3', 'Iris-setosa'],\n",
       "       ['5.1', '3.8', '1.6', '0.2', 'Iris-setosa'],\n",
       "       ['4.6', '3.2', '1.4', '0.2', 'Iris-setosa'],\n",
       "       ['5.3', '3.7', '1.5', '0.2', 'Iris-setosa'],\n",
       "       ['5.0', '3.3', '1.4', '0.2', 'Iris-setosa'],\n",
       "       ['7.0', '3.2', '4.7', '1.4', 'Iris-versicolor'],\n",
       "       ['6.4', '3.2', '4.5', '1.5', 'Iris-versicolor'],\n",
       "       ['6.9', '3.1', '4.9', '1.5', 'Iris-versicolor'],\n",
       "       ['5.5', '2.3', '4.0', '1.3', 'Iris-versicolor'],\n",
       "       ['6.5', '2.8', '4.6', '1.5', 'Iris-versicolor'],\n",
       "       ['5.7', '2.8', '4.5', '1.3', 'Iris-versicolor'],\n",
       "       ['6.3', '3.3', '4.7', '1.6', 'Iris-versicolor'],\n",
       "       ['4.9', '2.4', '3.3', '1.0', 'Iris-versicolor'],\n",
       "       ['6.6', '2.9', '4.6', '1.3', 'Iris-versicolor'],\n",
       "       ['5.2', '2.7', '3.9', '1.4', 'Iris-versicolor'],\n",
       "       ['5.0', '2.0', '3.5', '1.0', 'Iris-versicolor'],\n",
       "       ['5.9', '3.0', '4.2', '1.5', 'Iris-versicolor'],\n",
       "       ['6.0', '2.2', '4.0', '1.0', 'Iris-versicolor'],\n",
       "       ['6.1', '2.9', '4.7', '1.4', 'Iris-versicolor'],\n",
       "       ['5.6', '2.9', '3.6', '1.3', 'Iris-versicolor'],\n",
       "       ['6.7', '3.1', '4.4', '1.4', 'Iris-versicolor'],\n",
       "       ['5.6', '3.0', '4.5', '1.5', 'Iris-versicolor'],\n",
       "       ['5.8', '2.7', '4.1', '1.0', 'Iris-versicolor'],\n",
       "       ['6.2', '2.2', '4.5', '1.5', 'Iris-versicolor'],\n",
       "       ['5.6', '2.5', '3.9', '1.1', 'Iris-versicolor'],\n",
       "       ['5.9', '3.2', '4.8', '1.8', 'Iris-versicolor'],\n",
       "       ['6.1', '2.8', '4.0', '1.3', 'Iris-versicolor'],\n",
       "       ['6.3', '2.5', '4.9', '1.5', 'Iris-versicolor'],\n",
       "       ['6.1', '2.8', '4.7', '1.2', 'Iris-versicolor'],\n",
       "       ['6.4', '2.9', '4.3', '1.3', 'Iris-versicolor'],\n",
       "       ['6.6', '3.0', '4.4', '1.4', 'Iris-versicolor'],\n",
       "       ['6.8', '2.8', '4.8', '1.4', 'Iris-versicolor'],\n",
       "       ['6.7', '3.0', '5.0', '1.7', 'Iris-versicolor'],\n",
       "       ['6.0', '2.9', '4.5', '1.5', 'Iris-versicolor'],\n",
       "       ['5.7', '2.6', '3.5', '1.0', 'Iris-versicolor'],\n",
       "       ['5.5', '2.4', '3.8', '1.1', 'Iris-versicolor'],\n",
       "       ['5.5', '2.4', '3.7', '1.0', 'Iris-versicolor'],\n",
       "       ['5.8', '2.7', '3.9', '1.2', 'Iris-versicolor'],\n",
       "       ['6.0', '2.7', '5.1', '1.6', 'Iris-versicolor'],\n",
       "       ['5.4', '3.0', '4.5', '1.5', 'Iris-versicolor'],\n",
       "       ['6.0', '3.4', '4.5', '1.6', 'Iris-versicolor'],\n",
       "       ['6.7', '3.1', '4.7', '1.5', 'Iris-versicolor'],\n",
       "       ['6.3', '2.3', '4.4', '1.3', 'Iris-versicolor'],\n",
       "       ['5.6', '3.0', '4.1', '1.3', 'Iris-versicolor'],\n",
       "       ['5.5', '2.5', '4.0', '1.3', 'Iris-versicolor'],\n",
       "       ['5.5', '2.6', '4.4', '1.2', 'Iris-versicolor'],\n",
       "       ['6.1', '3.0', '4.6', '1.4', 'Iris-versicolor'],\n",
       "       ['5.8', '2.6', '4.0', '1.2', 'Iris-versicolor'],\n",
       "       ['5.0', '2.3', '3.3', '1.0', 'Iris-versicolor'],\n",
       "       ['5.6', '2.7', '4.2', '1.3', 'Iris-versicolor'],\n",
       "       ['5.7', '3.0', '4.2', '1.2', 'Iris-versicolor'],\n",
       "       ['5.7', '2.9', '4.2', '1.3', 'Iris-versicolor'],\n",
       "       ['6.2', '2.9', '4.3', '1.3', 'Iris-versicolor'],\n",
       "       ['5.1', '2.5', '3.0', '1.1', 'Iris-versicolor'],\n",
       "       ['5.7', '2.8', '4.1', '1.3', 'Iris-versicolor'],\n",
       "       ['6.3', '3.3', '6.0', '2.5', 'Iris-virginica'],\n",
       "       ['5.8', '2.7', '5.1', '1.9', 'Iris-virginica'],\n",
       "       ['7.1', '3.0', '5.9', '2.1', 'Iris-virginica'],\n",
       "       ['6.3', '2.9', '5.6', '1.8', 'Iris-virginica'],\n",
       "       ['6.5', '3.0', '5.8', '2.2', 'Iris-virginica'],\n",
       "       ['7.6', '3.0', '6.6', '2.1', 'Iris-virginica'],\n",
       "       ['4.9', '2.5', '4.5', '1.7', 'Iris-virginica'],\n",
       "       ['7.3', '2.9', '6.3', '1.8', 'Iris-virginica'],\n",
       "       ['6.7', '2.5', '5.8', '1.8', 'Iris-virginica'],\n",
       "       ['7.2', '3.6', '6.1', '2.5', 'Iris-virginica'],\n",
       "       ['6.5', '3.2', '5.1', '2.0', 'Iris-virginica'],\n",
       "       ['6.4', '2.7', '5.3', '1.9', 'Iris-virginica'],\n",
       "       ['6.8', '3.0', '5.5', '2.1', 'Iris-virginica'],\n",
       "       ['5.7', '2.5', '5.0', '2.0', 'Iris-virginica'],\n",
       "       ['5.8', '2.8', '5.1', '2.4', 'Iris-virginica'],\n",
       "       ['6.4', '3.2', '5.3', '2.3', 'Iris-virginica'],\n",
       "       ['6.5', '3.0', '5.5', '1.8', 'Iris-virginica'],\n",
       "       ['7.7', '3.8', '6.7', '2.2', 'Iris-virginica'],\n",
       "       ['7.7', '2.6', '6.9', '2.3', 'Iris-virginica'],\n",
       "       ['6.0', '2.2', '5.0', '1.5', 'Iris-virginica'],\n",
       "       ['6.9', '3.2', '5.7', '2.3', 'Iris-virginica'],\n",
       "       ['5.6', '2.8', '4.9', '2.0', 'Iris-virginica'],\n",
       "       ['7.7', '2.8', '6.7', '2.0', 'Iris-virginica'],\n",
       "       ['6.3', '2.7', '4.9', '1.8', 'Iris-virginica'],\n",
       "       ['6.7', '3.3', '5.7', '2.1', 'Iris-virginica'],\n",
       "       ['7.2', '3.2', '6.0', '1.8', 'Iris-virginica'],\n",
       "       ['6.2', '2.8', '4.8', '1.8', 'Iris-virginica'],\n",
       "       ['6.1', '3.0', '4.9', '1.8', 'Iris-virginica'],\n",
       "       ['6.4', '2.8', '5.6', '2.1', 'Iris-virginica'],\n",
       "       ['7.2', '3.0', '5.8', '1.6', 'Iris-virginica'],\n",
       "       ['7.4', '2.8', '6.1', '1.9', 'Iris-virginica'],\n",
       "       ['7.9', '3.8', '6.4', '2.0', 'Iris-virginica'],\n",
       "       ['6.4', '2.8', '5.6', '2.2', 'Iris-virginica'],\n",
       "       ['6.3', '2.8', '5.1', '1.5', 'Iris-virginica'],\n",
       "       ['6.1', '2.6', '5.6', '1.4', 'Iris-virginica'],\n",
       "       ['7.7', '3.0', '6.1', '2.3', 'Iris-virginica'],\n",
       "       ['6.3', '3.4', '5.6', '2.4', 'Iris-virginica'],\n",
       "       ['6.4', '3.1', '5.5', '1.8', 'Iris-virginica'],\n",
       "       ['6.0', '3.0', '4.8', '1.8', 'Iris-virginica'],\n",
       "       ['6.9', '3.1', '5.4', '2.1', 'Iris-virginica'],\n",
       "       ['6.7', '3.1', '5.6', '2.4', 'Iris-virginica'],\n",
       "       ['6.9', '3.1', '5.1', '2.3', 'Iris-virginica'],\n",
       "       ['5.8', '2.7', '5.1', '1.9', 'Iris-virginica'],\n",
       "       ['6.8', '3.2', '5.9', '2.3', 'Iris-virginica'],\n",
       "       ['6.7', '3.3', '5.7', '2.5', 'Iris-virginica'],\n",
       "       ['6.7', '3.0', '5.2', '2.3', 'Iris-virginica'],\n",
       "       ['6.3', '2.5', '5.0', '1.9', 'Iris-virginica'],\n",
       "       ['6.5', '3.0', '5.2', '2.0', 'Iris-virginica'],\n",
       "       ['6.2', '3.4', '5.4', '2.3', 'Iris-virginica'],\n",
       "       ['5.9', '3.0', '5.1', '1.8', 'Iris-virginica']], dtype='<U15')"
      ]
     },
     "execution_count": 10,
     "metadata": {},
     "output_type": "execute_result"
    }
   ],
   "source": [
    "\n",
    "#### Question 3 #######\n",
    "# Import a dataset with numbers and texts keeping the text intact in python numpy.\n",
    "\n",
    "# import iris.txt using numpy's load text, using relative path since they are in the same directory\n",
    "# numpy array only allows a single datatype, so convert everything to string\n",
    "# data are comma-delimited\n",
    "data = np.loadtxt(\"iris.txt\", dtype = \"str\", delimiter = \",\")\n",
    "data"
   ]
  },
  {
   "cell_type": "code",
   "execution_count": 24,
   "metadata": {},
   "outputs": [
    {
     "data": {
      "text/plain": [
       "'The first occurrence of a value greater than 1.0 in petalwidth, 4th column is at the 50 index.'"
      ]
     },
     "execution_count": 24,
     "metadata": {},
     "output_type": "execute_result"
    }
   ],
   "source": [
    "#### Question 4\n",
    "# Find the position of the first occurrence of a value greater than 1.0 in petalwidth 4th column of iris dataset. \n",
    "\n",
    "# first extract the 4th column\n",
    "petal = data[:, [3]]\n",
    "petal = petal.astype(\"float\")\n",
    "\n",
    "index = np.where(petal > 1.0)[0][0]\n",
    "\n",
    "f\"The first occurrence of a value greater than 1.0 in petalwidth, 4th column is at the {index} index.\""
   ]
  },
  {
   "cell_type": "code",
   "execution_count": 29,
   "metadata": {},
   "outputs": [
    {
     "name": "stdout",
     "output_type": "stream",
     "text": [
      "[27.62684215 14.64009987 21.80136195 42.39403048  1.23122395  6.95688692\n",
      " 33.86670515 41.466785    7.69862289 29.17957314 44.67477576 11.25090398\n",
      " 10.08108276  6.31046763 11.76517714 48.95256545 40.77247431  9.42510962\n",
      " 40.99501269 14.42961361]\n"
     ]
    },
    {
     "data": {
      "text/plain": [
       "array([27.62684215, 14.64009987, 21.80136195, 30.        , 10.        ,\n",
       "       10.        , 30.        , 30.        , 10.        , 29.17957314,\n",
       "       30.        , 11.25090398, 10.08108276, 10.        , 11.76517714,\n",
       "       30.        , 30.        , 10.        , 30.        , 14.42961361])"
      ]
     },
     "execution_count": 29,
     "metadata": {},
     "output_type": "execute_result"
    }
   ],
   "source": [
    "### Question 5\n",
    "# From the array a, replace all values greater than 30 to 30 and less than 10 to 10.\n",
    "\n",
    "\n",
    "np.random.seed(100)\n",
    "a = np.random.uniform(1,50, 20)\n",
    "print(a)\n",
    "\n",
    "# replace all values greater than 30 with 30\n",
    "a[a > 30] = 30\n",
    "a[a < 10] = 10\n",
    "a"
   ]
  }
 ],
 "metadata": {
  "kernelspec": {
   "display_name": "bmi6018",
   "language": "python",
   "name": "python3"
  },
  "language_info": {
   "codemirror_mode": {
    "name": "ipython",
    "version": 3
   },
   "file_extension": ".py",
   "mimetype": "text/x-python",
   "name": "python",
   "nbconvert_exporter": "python",
   "pygments_lexer": "ipython3",
   "version": "3.10.12"
  },
  "orig_nbformat": 4
 },
 "nbformat": 4,
 "nbformat_minor": 2
}
