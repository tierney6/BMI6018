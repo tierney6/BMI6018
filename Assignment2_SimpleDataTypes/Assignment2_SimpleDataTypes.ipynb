{
 "cells": [
  {
   "attachments": {},
   "cell_type": "markdown",
   "metadata": {},
   "source": [
    "## Assignment 2 \n",
    "### Simple Data Types\n",
    "Tierney O'Sullivan"
   ]
  },
  {
   "attachments": {},
   "cell_type": "markdown",
   "metadata": {},
   "source": [
    "#### Question 7\n",
    "\n",
    "Jack has been prescribed 5 medications, write a variable named \"Medication\", and store in it the number of medications he has. Print the type of the variable ''Medication\". Submit your code either here as a text entry, or on your GitHub page in a new repository and past the link here. We encourage you to use GitHub. Don't forget to add comments to your code."
   ]
  },
  {
   "cell_type": "code",
   "execution_count": 8,
   "metadata": {},
   "outputs": [
    {
     "name": "stdout",
     "output_type": "stream",
     "text": [
      "<class 'int'>\n"
     ]
    }
   ],
   "source": [
    "# store the number of medications in a variable called \"Medication\"\n",
    "Medication = 5\n",
    "# print the type of variable, should be an integer\n",
    "print(type(Medication))"
   ]
  },
  {
   "attachments": {},
   "cell_type": "markdown",
   "metadata": {},
   "source": [
    "#### Question 8\n",
    "\n",
    "Susan has a weight of 60 kilograms and a height of 1.58 meters. Write Code to Calculate and Print Susan’s Body Mass Index as float. Note: Body Mass Index is a person’s weight in kilograms divided by the square of height in meters. Reference: https://www.cdc.gov/healthyweight/assessing/bmi/adult_bmi/index.html Links to an external site.. Submit your code either here as a text entry, or on your GitHub page in a new repository and past the link here. We encourage you to use GitHub. Don't forget to add comments to your code."
   ]
  },
  {
   "cell_type": "code",
   "execution_count": 11,
   "metadata": {},
   "outputs": [
    {
     "name": "stdout",
     "output_type": "stream",
     "text": [
      "Susan's BMI is equal to  24.034609838166958\n",
      "Susan's BMI is equal to  24.0\n"
     ]
    }
   ],
   "source": [
    "# Store Susan's weight (in kg)\n",
    "W = 60\n",
    "# Store Susan's height (in m)\n",
    "H = 1.58\n",
    "\n",
    "# Calculate BMI\n",
    "BMI = W / H**2\n",
    "\n",
    "# Print Susan's BMI \n",
    "print(\"Susan's BMI is equal to \", BMI)\n",
    "\n",
    "# Let's round it to one decimal place\n",
    "print(\"Susan's BMI is equal to \", round(BMI, ndigits=1))"
   ]
  },
  {
   "attachments": {},
   "cell_type": "markdown",
   "metadata": {},
   "source": [
    "#### Question 11\n",
    "\n",
    "\n",
    "\n",
    "Provide a link with code for the following questions:  Question 1 (Booleans),  Question 2 (Booleans 2),  Question 5 (Strings), Question 6 (Strings 2),  Question 9 (Operators 2), and Question 10 (String 3)\n",
    "\n",
    "Response for each question is 5 points.\n",
    "\n",
    " \n",
    "\n",
    "Include comments to indicate each question title and question such as\n",
    "\n",
    "Booleans\n",
    "\n",
    "boolean True + boolean True - boolean False = ?  \n",
    "\n",
    "Your code....\n"
   ]
  },
  {
   "attachments": {},
   "cell_type": "markdown",
   "metadata": {},
   "source": [
    "#### Question 1 (Booleans)\n",
    "boolean True + boolean True - boolean False = ? "
   ]
  },
  {
   "cell_type": "code",
   "execution_count": 13,
   "metadata": {},
   "outputs": [
    {
     "data": {
      "text/plain": [
       "2"
      ]
     },
     "execution_count": 13,
     "metadata": {},
     "output_type": "execute_result"
    }
   ],
   "source": [
    "# True = 1, and False = 0, so the following should equal 2\n",
    "True + True - False"
   ]
  },
  {
   "attachments": {},
   "cell_type": "markdown",
   "metadata": {},
   "source": [
    "#### Question 2 (Booleans 2)\n",
    "\n",
    "\n",
    "logical tracker = True\n",
    "\n",
    "logical tracker = logical tracker & logical tracker\n",
    "\n",
    "logical tracker = logical tracker | (logical tracker - logical tracker)\n",
    "\n",
    "logical tracker  = ?\n",
    "\n",
    "(note: here the response we are looking for the last assigned value of the logical tracker, denoted here by question mark (?) )\n"
   ]
  },
  {
   "cell_type": "code",
   "execution_count": 15,
   "metadata": {},
   "outputs": [
    {
     "data": {
      "text/plain": [
       "1"
      ]
     },
     "execution_count": 15,
     "metadata": {},
     "output_type": "execute_result"
    }
   ],
   "source": [
    "# create a variable called L and assign True to it\n",
    "L = True\n",
    "# reassign the logical of L and L to L; in other words is L = True AND L = True? IF So, L = True\n",
    "L = L & L \n",
    "# reassign the logical of L or (L - L); since L = true from the last line, L-L = 1-1 = 0; this leads to L = True or False, which is True = 1\n",
    "L = L | (L - L)\n",
    "\n",
    "L"
   ]
  },
  {
   "attachments": {},
   "cell_type": "markdown",
   "metadata": {},
   "source": [
    "#### Question 5 (Strings)\n",
    "\n",
    "\n",
    "string = \"E. Coli\"\n",
    "\n",
    "string[2]=\n"
   ]
  },
  {
   "cell_type": "code",
   "execution_count": 16,
   "metadata": {},
   "outputs": [
    {
     "data": {
      "text/plain": [
       "' '"
      ]
     },
     "execution_count": 16,
     "metadata": {},
     "output_type": "execute_result"
    }
   ],
   "source": [
    "# create a string variable with the text E. Coli and the name 'string'\n",
    "string = \"E. Coli\"\n",
    "\n",
    "# extract only the character from the 2nd place in the string, since python starts with 0 (e.g. 0, 1, 2, ...), return the space\n",
    "string[2]"
   ]
  },
  {
   "attachments": {},
   "cell_type": "markdown",
   "metadata": {},
   "source": [
    "#### Question 6 (Strings 2)\n",
    "\n",
    "\n",
    "\n",
    "Oh no! My string has a typo!\n",
    "\n",
    "string = \"I Bove python\"\n",
    "\n",
    "No worries though. I'll just fix that.\n",
    "\n",
    "string[2]=\"L\"\n"
   ]
  },
  {
   "cell_type": "code",
   "execution_count": 17,
   "metadata": {},
   "outputs": [
    {
     "ename": "TypeError",
     "evalue": "'str' object does not support item assignment",
     "output_type": "error",
     "traceback": [
      "\u001b[0;31m---------------------------------------------------------------------------\u001b[0m",
      "\u001b[0;31mTypeError\u001b[0m                                 Traceback (most recent call last)",
      "Cell \u001b[0;32mIn[17], line 5\u001b[0m\n\u001b[1;32m      2\u001b[0m string \u001b[39m=\u001b[39m \u001b[39m\"\u001b[39m\u001b[39mI Bove python\u001b[39m\u001b[39m\"\u001b[39m\n\u001b[1;32m      4\u001b[0m \u001b[39m# try to replace the typo \"B\" with \"L\"; this doesn't work and returns an error because strings are immutable objects in python\u001b[39;00m\n\u001b[0;32m----> 5\u001b[0m string[\u001b[39m2\u001b[39m]\u001b[39m=\u001b[39m\u001b[39m\"\u001b[39m\u001b[39mL\u001b[39m\u001b[39m\"\u001b[39m\n",
      "\u001b[0;31mTypeError\u001b[0m: 'str' object does not support item assignment"
     ]
    }
   ],
   "source": [
    "# create a string variable with a typo and label it 'string'\n",
    "string = \"I Bove python\"\n",
    "\n",
    "# try to replace the typo \"B\" with \"L\"; this doesn't work and returns an error because strings are immutable objects in python\n",
    "string[2]=\"L\"\n"
   ]
  },
  {
   "attachments": {},
   "cell_type": "markdown",
   "metadata": {},
   "source": [
    "#### Question 9 (Operators 2)\n",
    "Explain how the \"+\", addition operation works differently for integers and strings."
   ]
  },
  {
   "cell_type": "code",
   "execution_count": 21,
   "metadata": {},
   "outputs": [
    {
     "data": {
      "text/plain": [
       "16"
      ]
     },
     "execution_count": 21,
     "metadata": {},
     "output_type": "execute_result"
    }
   ],
   "source": [
    "# using the '+' operand on integers gives their sum\n",
    "5+11\n"
   ]
  },
  {
   "cell_type": "code",
   "execution_count": 22,
   "metadata": {},
   "outputs": [
    {
     "data": {
      "text/plain": [
       "'511'"
      ]
     },
     "execution_count": 22,
     "metadata": {},
     "output_type": "execute_result"
    }
   ],
   "source": [
    "\n",
    "# using the '+' operand on strings gives a concatenated string\n",
    "\"5\"+\"11\""
   ]
  },
  {
   "attachments": {},
   "cell_type": "markdown",
   "metadata": {},
   "source": [
    "#### Question 10 (String 3)\n",
    "Type the output if the strings \"7\" and \"3\" are added. "
   ]
  },
  {
   "cell_type": "code",
   "execution_count": 23,
   "metadata": {},
   "outputs": [
    {
     "data": {
      "text/plain": [
       "'73'"
      ]
     },
     "execution_count": 23,
     "metadata": {},
     "output_type": "execute_result"
    }
   ],
   "source": [
    "# concatenating two strings\n",
    "\"7\"+\"3\""
   ]
  }
 ],
 "metadata": {
  "kernelspec": {
   "display_name": "bmi6018",
   "language": "python",
   "name": "python3"
  },
  "language_info": {
   "codemirror_mode": {
    "name": "ipython",
    "version": 3
   },
   "file_extension": ".py",
   "mimetype": "text/x-python",
   "name": "python",
   "nbconvert_exporter": "python",
   "pygments_lexer": "ipython3",
   "version": "3.10.12"
  },
  "orig_nbformat": 4
 },
 "nbformat": 4,
 "nbformat_minor": 2
}
