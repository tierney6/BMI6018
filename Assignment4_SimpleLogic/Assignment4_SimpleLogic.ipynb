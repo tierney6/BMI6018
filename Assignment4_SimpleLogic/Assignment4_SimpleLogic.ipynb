{
 "cells": [
  {
   "cell_type": "code",
   "execution_count": 34,
   "id": "43c61910",
   "metadata": {},
   "outputs": [],
   "source": [
    "# Logical Processing Homework\n",
    "\n",
    "# Problem 1 Stacking logical operators\n",
    "\n",
    "# influenza_genome = \n",
    "# [19, 15, 7, 9, 12, 6, 17, 20, 29, 14, 22, 8, 15, 12, 21, 25, 11, 10, 30, 4, 6, 24, 18, 21, 28, 22, 13, 19, 4, 23, 16, 25, 13, 28, 16, 29, 4, 3, 25, 13, 10, 26, 26, 18, 25, 28, 24, 18, 3, 9, 11, 29, 30, 16, 24, 5, 5, 25, 14, 7, 1, 15, 6, 6, 19, 19, 15, 2, 14, 7, 21, 5, 26, 25, 18, 18, 9, 7, 27, 4, 1, 23, 30, 25, 24, 29, 11, 16, 20, 15, 2, 9, 8, 13, 1, 13, 5, 17, 29, 25, 16, 13, 3, 30, 10, 21, 9, 18, 20, 14, 20, 19, 6, 4, 20, 5, 14, 5, 12, 27, 18, 28, 13, 30, 6, 9, 12, 9, 29, 4, 14, 22, 7, 25, 11, 12, 5, 24, 6, 3, 8, 3, 20, 24, 8, 23, 22, 11, 22, 10, 13, 14, 2, 6, 22, 22, 7, 6, 18, 28, 25, 4, 6, 24, 10, 24, 15, 18, 12, 24, 10, 16, 24, 21, 19, 24, 8, 8, 8, 10, 8, 15, 26, 14, 21, 18, 6, 10, 23, 2, 20, 15, 1, 4, 20, 8, 6, 1, 4, 15, 21, 26, 25, 1, 24, 15, 27, 8, 23, 4, 30, 22, 1, 3, 7, 16, 18, 29, 11, 4, 1, 29, 30, 16, 30, 10, 2, 26, 26, 7, 10, 15, 6, 25, 4, 7, 12, 24, 5, 8, 23, 16, 8, 3, 16, 1, 9, 4, 27, 26, 9, 25, 7, 14, 27, 21, 27, 28, 2, 2, 27, 22, 3, 23, 14, 16, 30, 12, 14, 8, 10, 5, 16, 12, 24, 3, 28, 9, 21, 7, 25, 9, 5, 3, 27, 7, 29, 25, 13, 11, 25, 21, 2, 14, 8, 17, 18, 23, 22, 12, 7, 26, 11, 25, 1, 23, 9, 12, 2, 4, 17, 27, 9, 13, 19, 15, 10, 12, 21, 25, 5, 1, 16, 17, 28, 23, 18, 10, 15, 18, 1, 11, 14, 10, 18, 12, 1, 23, 23, 25, 13, 27, 27, 6, 9, 11, 23, 6, 23, 14, 9, 15, 11, 24, 11, 29, 18, 6, 19, 16, 14, 26, 2, 14, 15, 25, 6, 21, 23, 25, 27, 5, 1, 17, 4, 7, 18, 8, 9, 10, 5, 21, 29, 9, 6, 2, 22, 12, 1, 13, 19, 6, 17, 21, 22, 26, 21, 10, 29, 8, 13, 10, 29, 6, 29, 16, 30, 5, 25, 14, 15, 15, 9, 24, 13, 5, 28, 18, 11, 21, 15, 12, 5, 16, 5, 29, 29, 29, 3, 10, 24, 16, 16, 12, 14, 6, 22, 21, 10, 10, 2, 14, 9, 29, 29, 2, 26, 11, 6, 7, 28, 10, 3, 24, 30, 2, 23, 9, 29, 27, 19, 1, 15, 11, 5, 7, 9, 26, 28, 27, 10, 20, 23, 29, 10, 15, 30, 13, 2, 11, 5, 9, 2, 30, 27, 14, 11, 20, 19, 1, 12, 10, 8, 6, 16, 3, 25, 5, 10, 24]\n",
    "\n",
    "# Given the array influenza_genome, write code that uses for loops and if statements to do the following and print the results(see below for instructions):\n",
    "\n",
    "# Only print the section of the array that is modified after completing each operation. i.e only print index 300 of the array after 1.1 and only the first 30 elements after 1.2\n"
   ]
  },
  {
   "cell_type": "code",
   "execution_count": 35,
   "id": "c6ad5c85",
   "metadata": {},
   "outputs": [
    {
     "name": "stdout",
     "output_type": "stream",
     "text": [
      "Original item at index 300 is 7\n",
      "New item at index 300 is 8\n"
     ]
    }
   ],
   "source": [
    "# 1.1 add 1 to the value at the index 300.\n",
    "\n",
    "# load array of influenza_genome\n",
    "influenza_genome = [19, 15, 7, 9, 12, 6, 17, 20, 29, 14, 22, 8, 15, 12, 21, 25, 11, 10, 30, 4, 6, 24, 18, 21, 28, 22, 13, 19, 4, 23, 16, 25, 13, 28, 16, 29, 4, 3, 25, 13, 10, 26, 26, 18, 25, 28, 24, 18, 3, 9, 11, 29, 30, 16, 24, 5, 5, 25, 14, 7, 1, 15, 6, 6, 19, 19, 15, 2, 14, 7, 21, 5, 26, 25, 18, 18, 9, 7, 27, 4, 1, 23, 30, 25, 24, 29, 11, 16, 20, 15, 2, 9, 8, 13, 1, 13, 5, 17, 29, 25, 16, 13, 3, 30, 10, 21, 9, 18, 20, 14, 20, 19, 6, 4, 20, 5, 14, 5, 12, 27, 18, 28, 13, 30, 6, 9, 12, 9, 29, 4, 14, 22, 7, 25, 11, 12, 5, 24, 6, 3, 8, 3, 20, 24, 8, 23, 22, 11, 22, 10, 13, 14, 2, 6, 22, 22, 7, 6, 18, 28, 25, 4, 6, 24, 10, 24, 15, 18, 12, 24, 10, 16, 24, 21, 19, 24, 8, 8, 8, 10, 8, 15, 26, 14, 21, 18, 6, 10, 23, 2, 20, 15, 1, 4, 20, 8, 6, 1, 4, 15, 21, 26, 25, 1, 24, 15, 27, 8, 23, 4, 30, 22, 1, 3, 7, 16, 18, 29, 11, 4, 1, 29, 30, 16, 30, 10, 2, 26, 26, 7, 10, 15, 6, 25, 4, 7, 12, 24, 5, 8, 23, 16, 8, 3, 16, 1, 9, 4, 27, 26, 9, 25, 7, 14, 27, 21, 27, 28, 2, 2, 27, 22, 3, 23, 14, 16, 30, 12, 14, 8, 10, 5, 16, 12, 24, 3, 28, 9, 21, 7, 25, 9, 5, 3, 27, 7, 29, 25, 13, 11, 25, 21, 2, 14, 8, 17, 18, 23, 22, 12, 7, 26, 11, 25, 1, 23, 9, 12, 2, 4, 17, 27, 9, 13, 19, 15, 10, 12, 21, 25, 5, 1, 16, 17, 28, 23, 18, 10, 15, 18, 1, 11, 14, 10, 18, 12, 1, 23, 23, 25, 13, 27, 27, 6, 9, 11, 23, 6, 23, 14, 9, 15, 11, 24, 11, 29, 18, 6, 19, 16, 14, 26, 2, 14, 15, 25, 6, 21, 23, 25, 27, 5, 1, 17, 4, 7, 18, 8, 9, 10, 5, 21, 29, 9, 6, 2, 22, 12, 1, 13, 19, 6, 17, 21, 22, 26, 21, 10, 29, 8, 13, 10, 29, 6, 29, 16, 30, 5, 25, 14, 15, 15, 9, 24, 13, 5, 28, 18, 11, 21, 15, 12, 5, 16, 5, 29, 29, 29, 3, 10, 24, 16, 16, 12, 14, 6, 22, 21, 10, 10, 2, 14, 9, 29, 29, 2, 26, 11, 6, 7, 28, 10, 3, 24, 30, 2, 23, 9, 29, 27, 19, 1, 15, 11, 5, 7, 9, 26, 28, 27, 10, 20, 23, 29, 10, 15, 30, 13, 2, 11, 5, 9, 2, 30, 27, 14, 11, 20, 19, 1, 12, 10, 8, 6, 16, 3, 25, 5, 10, 24]\n",
    "\n",
    "# identify the value at index 300\n",
    "print(\"Original item at index 300 is\", influenza_genome[300])\n",
    "\n",
    "# write for loop and if statement to add 1 to the value\n",
    "for idx in range(len(influenza_genome)):\n",
    "    if idx == 300:\n",
    "        influenza_genome[idx] = influenza_genome[idx] + 1\n",
    "\n",
    "\n",
    "# identify the value at index 300\n",
    "print(\"New item at index 300 is\", influenza_genome[300])\n",
    "\n",
    "\n"
   ]
  },
  {
   "cell_type": "code",
   "execution_count": 36,
   "id": "379f3217",
   "metadata": {},
   "outputs": [
    {
     "name": "stdout",
     "output_type": "stream",
     "text": [
      "Before multiplication: [19, 15, 7, 9, 12, 6, 17, 20, 29, 14, 22, 8, 15, 12, 21, 25, 11, 10, 30, 4, 6, 24, 18, 21, 28, 22, 13, 19, 4, 23]\n",
      "Item 75 is originally equal to 18\n",
      "After multiplication: [19, 45, 7, 27, 36, 18, 17, 20, 29, 14, 22, 8, 45, 36, 63, 25, 11, 10, 90, 4, 18, 72, 54, 63, 28, 22, 13, 19, 4, 23]\n",
      "Item 75 is equivalent to before, and is still 18\n"
     ]
    }
   ],
   "source": [
    "\n",
    "# 1.2 for the first 30 elements, if the value of the element is divisable by 3, multiply the value by 3.\n",
    "\n",
    "# first print the first 30 elements of the list\n",
    "print(\"Before multiplication:\", influenza_genome[0:30])\n",
    "\n",
    "# print a later element in the list that is divisible by 3, but should remain unchanged\n",
    "print(\"Item 75 is originally equal to\", influenza_genome[75])\n",
    "\n",
    "for idx in range(30):\n",
    "    # since python indexing starts with 0, using first 30 elements are elements 0:29\n",
    "    if influenza_genome[idx] % 3 == 0:\n",
    "        influenza_genome[idx] =  influenza_genome[idx] * 3\n",
    "\n",
    "print(\"After multiplication:\", influenza_genome[0:30])\n",
    "\n",
    "# check to ensure remaining part of list didn't change\n",
    "print(\"Item 75 is equivalent to before, and is still\", influenza_genome[75])\n"
   ]
  },
  {
   "cell_type": "code",
   "execution_count": 37,
   "id": "8a060254",
   "metadata": {},
   "outputs": [
    {
     "name": "stdout",
     "output_type": "stream",
     "text": [
      "Before replacement: [10, 20, 23, 29, 10, 15, 30, 13, 2, 11, 5, 9, 2, 30, 27, 14, 11, 20, 19, 1, 12, 10, 8, 6, 16, 3, 25, 5, 10, 24]\n",
      "Item 1 is 45\n",
      "After replacement: [10, 'a', 23, 29, 'a', 'a', 'a', 13, 2, 11, 'a', 9, 2, 'a', 27, 14, 11, 'a', 19, 1, 12, 'a', 8, 6, 16, 3, 'a', 'a', 'a', 24]\n",
      "Item 1 is equivalent to before, and is still 45\n"
     ]
    }
   ],
   "source": [
    "\n",
    "# 1.3 for the last 30 elements, if the index value at that point is divisable by 5, replace the value with \"a\".\n",
    "\n",
    "# first print the last 30 elements of the list\n",
    "print(\"Before replacement:\", influenza_genome[-30:])\n",
    "\n",
    "# print an earlier element in the list that should remain unchanged\n",
    "print(\"Item 1 is\", influenza_genome[1])\n",
    "\n",
    "# create an iterable that ranges from the last item of the list to the 30th to last\n",
    "for idx in range(len(influenza_genome) -1 , len(influenza_genome) - 30, -1):\n",
    "    if influenza_genome[idx] % 5 == 0:\n",
    "        influenza_genome[idx] = 'a'\n",
    "\n",
    "print(\"After replacement:\", influenza_genome[-30:])\n",
    "\n",
    "# check to ensure remaining part of list didn't change\n",
    "print(\"Item 1 is equivalent to before, and is still\", influenza_genome[1])\n",
    "\n"
   ]
  },
  {
   "cell_type": "code",
   "execution_count": 38,
   "id": "509ef344",
   "metadata": {},
   "outputs": [
    {
     "name": "stdout",
     "output_type": "stream",
     "text": [
      "Before replacement: [21, 26, 25, 1, 24, 15, 27, 8, 23, 4, 30, 22, 1, 3, 7, 16, 18, 29, 11, 4, 1, 29, 30, 16, 30, 10, 2, 26, 26, 7, 10, 15, 6, 25, 4, 7, 12, 24, 5, 8, 23, 16, 8, 3, 16, 1, 9, 4, 27, 26, 9, 25, 7, 14, 27, 21, 27, 28, 2, 2, 27, 22, 3, 23, 14, 16, 30, 12, 14, 8, 10, 5, 16, 12, 24, 3, 28, 9, 21, 7, 25, 9, 5, 3, 27, 7, 29, 25, 13, 11, 25, 21, 2, 14, 8, 17, 18, 23, 22, 12]\n",
      "Item 1 is 45\n",
      "After replacement: [21, 26, 25, 1, 24, 10, 27, 8, 23, 4, 10, 22, 1, 3, 7, 16, 18, 29, 11, 4, 1, 29, 10, 16, 10, 10, 2, 26, 26, 7, 10, 10, 6, 25, 4, 7, 12, 24, 5, 8, 23, 16, 8, 3, 16, 1, 9, 4, 27, 26, 9, 25, 7, 14, 27, 21, 27, 28, 2, 2, 27, 22, 3, 23, 14, 16, 10, 12, 14, 8, 10, 5, 16, 12, 24, 3, 28, 9, 21, 7, 25, 9, 5, 3, 27, 7, 29, 25, 13, 11, 25, 21, 2, 14, 8, 17, 18, 23, 22, 12]\n",
      "Item 1 is equivalent to before, and is still 45\n"
     ]
    }
   ],
   "source": [
    "\n",
    "# 1.4 for all elements between index 200 and 300, if the value of the element is divisable by BOTH 3 AND 5, replace the value with the 10.\n",
    "\n",
    "# first print the elements between 200 and 300\n",
    "print(\"Before replacement:\", influenza_genome[200:300])\n",
    "\n",
    "# print an earlier element in the list that should remain unchanged\n",
    "print(\"Item 1 is\", influenza_genome[1])\n",
    "\n",
    "# create an iterable that ranges from the index 200 and 300\n",
    "for idx in range(200, 300, 1):\n",
    "    # if divisible by 3 and 5, it will be divisible by 15; use the modulo operator (%) to get remainder and if divisible remainder will equal 0\n",
    "    if influenza_genome[idx] % 15 == 0 : \n",
    "        influenza_genome[idx] = 10\n",
    "\n",
    "print(\"After replacement:\", influenza_genome[200:300])\n",
    "\n",
    "# check to ensure remaining part of list didn't change\n",
    "print(\"Item 1 is equivalent to before, and is still\", influenza_genome[1])"
   ]
  },
  {
   "cell_type": "code",
   "execution_count": 26,
   "id": "54dffd04",
   "metadata": {},
   "outputs": [
    {
     "name": "stdout",
     "output_type": "stream",
     "text": [
      "4\n",
      "7\n",
      "12\n",
      "24\n"
     ]
    }
   ],
   "source": [
    "# Problem 2 Loops within loops\n",
    "# Given the array influenza_genome, write code using both for and while loops that:\n",
    "\n",
    "# 2.1 Create a for loop that iterates over items index 234 through 237 and prints each value (ie there should be 4 items)\n",
    "\n",
    "# use range 234-238 because python is end exclusive\n",
    "for idx in range(234, 238):\n",
    "    print(influenza_genome[idx])\n"
   ]
  },
  {
   "cell_type": "code",
   "execution_count": 27,
   "id": "771d256d",
   "metadata": {},
   "outputs": [
    {
     "name": "stdout",
     "output_type": "stream",
     "text": [
      "4\n",
      "7\n",
      "12\n",
      "24\n"
     ]
    }
   ],
   "source": [
    "# 2.2 Create a while loop that iterates over items index 234 through 237 and prints each value (ie there should be 4 items)\n",
    "idx = 234\n",
    "while idx < 238:\n",
    "    print(influenza_genome[idx])\n",
    "    idx += 1"
   ]
  },
  {
   "cell_type": "code",
   "execution_count": 28,
   "id": "ed38918d",
   "metadata": {},
   "outputs": [
    {
     "name": "stdout",
     "output_type": "stream",
     "text": [
      "[12, 12, 12, 12, 12, 12, 12]\n"
     ]
    }
   ],
   "source": [
    "\n",
    "# 2.3 Create a for loop that iterates over items index 234 through 237 and if the index is 236 print the item 7 times.\n",
    "# loop through items 234 through 237\n",
    "for idx in range(234, 238):\n",
    "    # if index is 236, print the value  7 times\n",
    "    if idx == 236: \n",
    "        new = [influenza_genome[idx]] * 7\n",
    "        print(new)\n",
    "\n"
   ]
  },
  {
   "cell_type": "code",
   "execution_count": 29,
   "id": "cea0b98e",
   "metadata": {},
   "outputs": [
    {
     "data": {
      "text/plain": [
       "[19, 22, 11, 18, 16, 9, 13, 24, 21, 10]"
      ]
     },
     "execution_count": 29,
     "metadata": {},
     "output_type": "execute_result"
    }
   ],
   "source": [
    "# Problem 3 Functions\n",
    "# You are going to implement 3 funtions that will process the influenza_genome list in various ways.\n",
    "\n",
    "# 3.1 write a function, that takes in the array as an argument, and outputs 10 values from the dataset, spaced out by indexes that are 25 apart (ie 0, 25, 50, etc)\n",
    "\n",
    "# name a function \"fun_three_one\" & give it an argument \"flu_array\"\n",
    "def fun_three_one(flu_array):\n",
    "  # make a for loop that iterates through 0 to 250 in increments of 25 and prints the values at those indexes\n",
    "  n_items = 10 # number of items you want to print\n",
    "  start = 0 # where you want the index to start\n",
    "  step = 25 # the step of the spacing\n",
    "  ls = [] # create an empty list to store the output in\n",
    "  for ind in range(start, n_items*step, step):\n",
    "    ls.append(flu_array[ind])\n",
    "  return(ls)  \n",
    "    \n",
    "\n",
    "# run the function, using the influenza_genome array as the input\n",
    "fun_three_one(influenza_genome)"
   ]
  },
  {
   "cell_type": "code",
   "execution_count": 30,
   "id": "f080bb0b",
   "metadata": {},
   "outputs": [
    {
     "data": {
      "text/plain": [
       "[19, 63, 4, 26, 5, 21, 24, 29, 6, 12, 8, 22, 12, 26, 6, 10, 10, 5, 7, 10]"
      ]
     },
     "execution_count": 30,
     "metadata": {},
     "output_type": "execute_result"
    }
   ],
   "source": [
    "\n",
    "# 3.2 write a function that takes in the dataset as an argument and outputs 20 values from the dataset, spaced out by indexes that are y apart (ie you can decide how far apart they should be iterated as long as they dont exceed the length of the dataset)\n",
    "\n",
    "# name a function \"fun_three_two\" & give it an argument \"flu_array\"\n",
    "def fun_three_two(flu_array):\n",
    "  # make a for loop that iterates through 0 to 266 in increments of 14 and prints the values at those indexes\n",
    "  n_items = 20 # number of items you want to print\n",
    "  start = 0 # where you want the index to start\n",
    "  step = 14 # the step of the spacing\n",
    "  ls = [] # create an empty list to store the output in\n",
    "  for ind in range(start, n_items*step, step):\n",
    "    ls.append(flu_array[ind])\n",
    "  return(ls)  \n",
    "  \n",
    "# run the function, using the influenza_genome array as the input\n",
    "fun_three_two(influenza_genome)"
   ]
  },
  {
   "cell_type": "code",
   "execution_count": 31,
   "id": "a57120cf",
   "metadata": {},
   "outputs": [
    {
     "data": {
      "text/plain": [
       "[19, 4, 5, 24, 6, 8, 12, 6, 10, 7]"
      ]
     },
     "execution_count": 31,
     "metadata": {},
     "output_type": "execute_result"
    }
   ],
   "source": [
    "\n",
    "# 3.3 write a function that takes the output from the function from 3.2 as an argument, then only prints out every other item (ie there should only be 10 outputs)\n",
    "def fun_three_three(flu_ls):\n",
    "  # create an empty list to fill in for loop\n",
    "  ls = []\n",
    "  for ind in range(0, len(flu_ls) -1 ,2):\n",
    "    ls.append(flu_ls[ind])\n",
    "  return(ls)  \n",
    "  \n",
    "three_two = fun_three_two(influenza_genome)\n",
    "fun_three_three(three_two)"
   ]
  },
  {
   "cell_type": "code",
   "execution_count": 32,
   "id": "9a250599",
   "metadata": {},
   "outputs": [],
   "source": [
    "\n",
    "\n",
    "\n",
    "# Problem 4 Putting it all together\n",
    "# Write a function that implements the code from problem 1.4, then implements the code from problem 2.3.\n",
    "\n",
    "# The function should create a modified version of the influenza_genome list as per 1.4, then print the section described in problem 2.3. \n",
    "\n"
   ]
  },
  {
   "cell_type": "code",
   "execution_count": 33,
   "id": "e2d052d4",
   "metadata": {},
   "outputs": [
    {
     "data": {
      "text/plain": [
       "[12, 12, 12, 12, 12, 12, 12]"
      ]
     },
     "execution_count": 33,
     "metadata": {},
     "output_type": "execute_result"
    }
   ],
   "source": [
    "\n",
    "\n",
    "def fun_four(flu_array):\n",
    "    \n",
    "    # in the range of the flu array between 200 and 300\n",
    "    # if the value is divisible by 3 and 5, and thus divisible by 15, replace the value with 10\n",
    "    for idx in range(200, 300, 1):\n",
    "        if flu_array[idx] % 15 == 0 : \n",
    "            flu_array[idx] = 10\n",
    "        # ls.append(flu_array[idx])\n",
    "    # Create a for loop that iterates over items index 234 through 237 and if the index is 236 print the item 7 times.\n",
    "    for idx in range(234, 238):\n",
    "    # if index is 236, print the value  7 times\n",
    "        if idx == 236: \n",
    "            new = [flu_array[idx]] * 7\n",
    "    return(new)\n",
    "\n",
    "fun_four(influenza_genome)\n"
   ]
  }
 ],
 "metadata": {
  "kernelspec": {
   "display_name": "Python 3.9.1 64-bit",
   "language": "python",
   "name": "python3"
  },
  "language_info": {
   "codemirror_mode": {
    "name": "ipython",
    "version": 3
   },
   "file_extension": ".py",
   "mimetype": "text/x-python",
   "name": "python",
   "nbconvert_exporter": "python",
   "pygments_lexer": "ipython3",
   "version": "3.10.12"
  },
  "vscode": {
   "interpreter": {
    "hash": "acb7b9ebd37b6fa8637fd3027108c77b651ce6aaaec9072fd616444dc2b10c19"
   }
  }
 },
 "nbformat": 4,
 "nbformat_minor": 5
}
